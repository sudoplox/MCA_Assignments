{
  "nbformat": 4,
  "nbformat_minor": 0,
  "metadata": {
    "colab": {
      "name": "MCA A3 Q1",
      "provenance": [],
      "collapsed_sections": [],
      "machine_shape": "hm"
    },
    "kernelspec": {
      "name": "python3",
      "display_name": "Python 3"
    }
  },
  "cells": [
    {
      "cell_type": "code",
      "metadata": {
        "id": "WHYPYhM8Jta3",
        "colab_type": "code",
        "colab": {
          "base_uri": "https://localhost:8080/",
          "height": 88
        },
        "outputId": "0a6889a7-9e7a-4e25-d5ab-3e1d0f7a8669"
      },
      "source": [
        "from nltk.corpus import abc\n",
        "import numpy as np \n",
        "import string \n",
        "import re\n",
        "import multiprocessing\n",
        "# import tensorflow as tf\n",
        "import tensorflow.compat.v1 as tf\n",
        "tf.disable_v2_behavior()\n",
        "from tensorflow.keras.utils import to_categorical\n",
        "\n",
        "def find_closest(word_index, vectors):\n",
        "    query_vector = vectors[word_index]\n",
        "    min_dist = 100**2 # to act like positive infinity\n",
        "    min_index = -1.0\n",
        "\n",
        "    for index, vector in enumerate(vectors):\n",
        "        euc1=np.sqrt(np.sum((vector-query_vector)**2))\n",
        "        if not np.array_equal(vector, query_vector) and  min_dist > euc1 :\n",
        "            euc2=np.sqrt(np.sum((vector-query_vector)**2))\n",
        "            min_index,min_dist  = index,euc2\n",
        "\n",
        "    return min_index\n",
        "\n",
        "import nltk\n",
        "import sys\n",
        "from collections import OrderedDict\n",
        "from sklearn.manifold import TSNE\n",
        "import matplotlib.pyplot as plt\n",
        "%matplotlib inline\n",
        "import nltk\n",
        "import gensim\n",
        "from nltk.corpus import abc\n",
        "tf.compat.v1.disable_eager_execution()\n",
        "\n",
        "def to_one_hot(dpi, vocab_size):\n",
        "    temp = np.zeros(vocab_size)\n",
        "    temp[dpi] = 1.0 #1\n",
        "    return temp\n",
        "#INITS\n",
        "sess = tf.Session()\n",
        "from sklearn import preprocessing\n",
        "normalizer = preprocessing.Normalizer()\n",
        "from sklearn.manifold import TSNE\n",
        "model = TSNE(n_components=3, random_state=0)\n",
        "np.set_printoptions(suppress=True)"
      ],
      "execution_count": 1,
      "outputs": [
        {
          "output_type": "stream",
          "text": [
            "WARNING:tensorflow:From /usr/local/lib/python3.6/dist-packages/tensorflow/python/compat/v2_compat.py:96: disable_resource_variables (from tensorflow.python.ops.variable_scope) is deprecated and will be removed in a future version.\n",
            "Instructions for updating:\n",
            "non-resource variables are not supported in the long term\n"
          ],
          "name": "stdout"
        }
      ]
    },
    {
      "cell_type": "code",
      "metadata": {
        "id": "TX1OpVJkweaY",
        "colab_type": "code",
        "colab": {}
      },
      "source": [
        ""
      ],
      "execution_count": 0,
      "outputs": []
    },
    {
      "cell_type": "code",
      "metadata": {
        "id": "Q8tvC-i3yU4x",
        "colab_type": "code",
        "outputId": "19a1bc8d-92eb-45ce-e1e7-f816196bd18e",
        "colab": {
          "base_uri": "https://localhost:8080/",
          "height": 136
        }
      },
      "source": [
        "from nltk.corpus import stopwords  \n",
        "nltk.download('stopwords')\n",
        "stop_words = set(stopwords.words('english'))     \n",
        "\n",
        "nltk.download('abc')\n",
        "nltk.download('punkt')"
      ],
      "execution_count": 2,
      "outputs": [
        {
          "output_type": "stream",
          "text": [
            "[nltk_data] Downloading package stopwords to /root/nltk_data...\n",
            "[nltk_data]   Package stopwords is already up-to-date!\n",
            "[nltk_data] Downloading package abc to /root/nltk_data...\n",
            "[nltk_data]   Package abc is already up-to-date!\n",
            "[nltk_data] Downloading package punkt to /root/nltk_data...\n",
            "[nltk_data]   Package punkt is already up-to-date!\n"
          ],
          "name": "stdout"
        },
        {
          "output_type": "execute_result",
          "data": {
            "text/plain": [
              "True"
            ]
          },
          "metadata": {
            "tags": []
          },
          "execution_count": 2
        }
      ]
    },
    {
      "cell_type": "code",
      "metadata": {
        "id": "fOAI0dHiRSNK",
        "colab_type": "code",
        "colab": {}
      },
      "source": [
        "stop_words=list(stop_words)"
      ],
      "execution_count": 0,
      "outputs": []
    },
    {
      "cell_type": "code",
      "metadata": {
        "id": "g6qZ9ZPPv1_3",
        "colab_type": "code",
        "colab": {}
      },
      "source": [
        ""
      ],
      "execution_count": 0,
      "outputs": []
    },
    {
      "cell_type": "code",
      "metadata": {
        "id": "ShvGlwGbKiGA",
        "colab_type": "code",
        "colab": {}
      },
      "source": [
        "words=abc.words()"
      ],
      "execution_count": 0,
      "outputs": []
    },
    {
      "cell_type": "code",
      "metadata": {
        "id": "EOhcIEW9PooL",
        "colab_type": "code",
        "colab": {
          "base_uri": "https://localhost:8080/",
          "height": 34
        },
        "outputId": "ab478649-8d49-4eb1-8427-1db1b7d3c95c"
      },
      "source": [
        "len(abc.sents())"
      ],
      "execution_count": 5,
      "outputs": [
        {
          "output_type": "execute_result",
          "data": {
            "text/plain": [
              "29059"
            ]
          },
          "metadata": {
            "tags": []
          },
          "execution_count": 5
        }
      ]
    },
    {
      "cell_type": "code",
      "metadata": {
        "id": "a2asJTD1wJHu",
        "colab_type": "code",
        "colab": {}
      },
      "source": [
        "sentences=abc.sents()[0:100]\n",
        "# sentences=[['he', 'is', 'the', 'king'], ['the', 'king', 'is', 'royal'], ['she', 'is', 'the', 'royal', 'queen']]"
      ],
      "execution_count": 0,
      "outputs": []
    },
    {
      "cell_type": "code",
      "metadata": {
        "id": "b-lkjHlvYRpi",
        "colab_type": "code",
        "colab": {}
      },
      "source": [
        "sentences;"
      ],
      "execution_count": 0,
      "outputs": []
    },
    {
      "cell_type": "code",
      "metadata": {
        "id": "nmFN903yZgit",
        "colab_type": "code",
        "colab": {}
      },
      "source": [
        "words=[]\n",
        "sent=[]\n",
        "for i in sentences:\n",
        "    temp=[]\n",
        "    for j in i:\n",
        "        if j not in stop_words and j.isalpha():\n",
        "            words.append(j)\n",
        "            temp.append(j)\n",
        "    sent.append(temp)\n",
        "\n",
        "words = set(words) # so that all duplicate words are removed\n",
        "word2int = {}\n",
        "int2word = {}\n",
        "x_train = [] # input word\n",
        "y_train = [] # output word\n",
        "vocab_size = len(words) # gives the total number of unique words\n"
      ],
      "execution_count": 0,
      "outputs": []
    },
    {
      "cell_type": "code",
      "metadata": {
        "id": "RSxTbZScZr10",
        "colab_type": "code",
        "colab": {}
      },
      "source": [
        "sentences=sent\n",
        "sentences;"
      ],
      "execution_count": 0,
      "outputs": []
    },
    {
      "cell_type": "code",
      "metadata": {
        "id": "iqhuqp8noB1N",
        "colab_type": "code",
        "colab": {
          "base_uri": "https://localhost:8080/",
          "height": 34
        },
        "outputId": "1db53548-aa32-4296-d742-34a62a0e5936"
      },
      "source": [
        "EMBEDDING_DIM = 6 \n",
        "b1 = tf.Variable(tf.random_normal([EMBEDDING_DIM])) #bias\n",
        "type(b1)\n",
        "W1 = tf.Variable(tf.random_normal([vocab_size, EMBEDDING_DIM]))\n",
        "type(W1)"
      ],
      "execution_count": 10,
      "outputs": [
        {
          "output_type": "execute_result",
          "data": {
            "text/plain": [
              "tensorflow.python.ops.variables.RefVariable"
            ]
          },
          "metadata": {
            "tags": []
          },
          "execution_count": 10
        }
      ]
    },
    {
      "cell_type": "code",
      "metadata": {
        "id": "jnKegKdtKAC2",
        "colab_type": "code",
        "colab": {}
      },
      "source": [
        "WINDOW_SIZE = 2\n",
        "data = []\n",
        "WINDOW_SIZE_NEXT = WINDOW_SIZE+1\n",
        "for sentence in sentences:\n",
        "    for word_index, word in enumerate(sentence):\n",
        "        for nb_word in sentence[max(word_index - WINDOW_SIZE, 0) : 1 + min(WINDOW_SIZE + word_index , len(sentence))] : \n",
        "            data.append([word, nb_word])"
      ],
      "execution_count": 0,
      "outputs": []
    },
    {
      "cell_type": "code",
      "metadata": {
        "id": "ZBWFChmq0Ijh",
        "colab_type": "code",
        "colab": {}
      },
      "source": [
        "data;"
      ],
      "execution_count": 0,
      "outputs": []
    },
    {
      "cell_type": "code",
      "metadata": {
        "id": "DrmRQ3LzOZbd",
        "colab_type": "code",
        "colab": {}
      },
      "source": [
        "for ind,word in enumerate(words):\n",
        "    int2word[ind] = word\n",
        "    word2int[word] = ind"
      ],
      "execution_count": 0,
      "outputs": []
    },
    {
      "cell_type": "code",
      "metadata": {
        "id": "i3xIjJ5fO1wl",
        "colab_type": "code",
        "colab": {}
      },
      "source": [
        "for data_word in data:\n",
        "    x_train.append(to_one_hot(word2int[ data_word[0] ], vocab_size))\n",
        "    y_train.append(to_one_hot(word2int[ data_word[1] ], vocab_size))\n",
        "\n",
        "# convert them to numpy arrays\n",
        "x_train = np.asarray(x_train)\n",
        "x = tf.placeholder(tf.float32, shape=(None, vocab_size))\n",
        "hidden_representation = tf.add(tf.matmul(x,W1), b1)\n",
        "y_train = np.asarray(y_train) \n",
        "y_label = tf.placeholder(tf.float32, shape=(None, vocab_size))"
      ],
      "execution_count": 0,
      "outputs": []
    },
    {
      "cell_type": "code",
      "metadata": {
        "id": "ywLQy5M7PEV9",
        "colab_type": "code",
        "outputId": "ae1772eb-fc01-4e39-fe5a-587494609a8f",
        "colab": {
          "base_uri": "https://localhost:8080/",
          "height": 34
        }
      },
      "source": [
        "print(x_train.size== y_train.size)"
      ],
      "execution_count": 15,
      "outputs": [
        {
          "output_type": "stream",
          "text": [
            "True\n"
          ],
          "name": "stdout"
        }
      ]
    },
    {
      "cell_type": "code",
      "metadata": {
        "id": "S4VAgdMYWeRe",
        "colab_type": "code",
        "colab": {}
      },
      "source": [
        "W2 = tf.Variable(tf.random_normal([EMBEDDING_DIM, vocab_size]))"
      ],
      "execution_count": 0,
      "outputs": []
    },
    {
      "cell_type": "code",
      "metadata": {
        "id": "f7Q4iI1wvcon",
        "colab_type": "code",
        "colab": {
          "base_uri": "https://localhost:8080/",
          "height": 34
        },
        "outputId": "5abb0da8-b3df-4f8f-f51a-50eb6a66a498"
      },
      "source": [
        "type(W2)"
      ],
      "execution_count": 17,
      "outputs": [
        {
          "output_type": "execute_result",
          "data": {
            "text/plain": [
              "tensorflow.python.ops.variables.RefVariable"
            ]
          },
          "metadata": {
            "tags": []
          },
          "execution_count": 17
        }
      ]
    },
    {
      "cell_type": "code",
      "metadata": {
        "id": "nh93a5w2bnjX",
        "colab_type": "code",
        "colab": {}
      },
      "source": [
        "b2 = tf.Variable(tf.random_normal([vocab_size]))"
      ],
      "execution_count": 0,
      "outputs": []
    },
    {
      "cell_type": "code",
      "metadata": {
        "id": "RCGmIkGovhC0",
        "colab_type": "code",
        "colab": {
          "base_uri": "https://localhost:8080/",
          "height": 34
        },
        "outputId": "68b12e7b-97d0-419e-81bf-0d96754357d2"
      },
      "source": [
        "type(b2)"
      ],
      "execution_count": 19,
      "outputs": [
        {
          "output_type": "execute_result",
          "data": {
            "text/plain": [
              "tensorflow.python.ops.variables.RefVariable"
            ]
          },
          "metadata": {
            "tags": []
          },
          "execution_count": 19
        }
      ]
    },
    {
      "cell_type": "code",
      "metadata": {
        "id": "WTwVidVDj9dt",
        "colab_type": "code",
        "colab": {}
      },
      "source": [
        "prediction = tf.nn.softmax(tf.add( tf.matmul(hidden_representation, W2), b2))"
      ],
      "execution_count": 0,
      "outputs": []
    },
    {
      "cell_type": "code",
      "metadata": {
        "id": "6OYlxHrCWHFM",
        "colab_type": "code",
        "colab": {}
      },
      "source": [
        "sess.run( tf.global_variables_initializer())\n",
        "\n",
        "cross_entropy_loss = tf.reduce_mean(-1*tf.reduce_sum( tf.log(prediction) * y_label , reduction_indices=[1]))\n",
        "train_step = tf.train.GradientDescentOptimizer(0.2).minimize(cross_entropy_loss)\n",
        "n_iters = 345\n",
        "for fml_ in range(n_iters):\n",
        "    sess.run(train_step, feed_dict={x: x_train, y_label: y_train})\n"
      ],
      "execution_count": 0,
      "outputs": []
    },
    {
      "cell_type": "code",
      "metadata": {
        "id": "fVi_uk2MUMDW",
        "colab_type": "code",
        "colab": {}
      },
      "source": [
        ""
      ],
      "execution_count": 0,
      "outputs": []
    },
    {
      "cell_type": "code",
      "metadata": {
        "id": "Hdls0NuMlif1",
        "colab_type": "code",
        "colab": {}
      },
      "source": [
        "# print(vectors[ word2int['PM'] ])\n"
      ],
      "execution_count": 0,
      "outputs": []
    },
    {
      "cell_type": "code",
      "metadata": {
        "id": "DrQ5BOe3lnh6",
        "colab_type": "code",
        "colab": {}
      },
      "source": [
        ""
      ],
      "execution_count": 0,
      "outputs": []
    },
    {
      "cell_type": "code",
      "metadata": {
        "id": "tUIclZl2ln23",
        "colab_type": "code",
        "colab": {}
      },
      "source": [
        ""
      ],
      "execution_count": 0,
      "outputs": []
    },
    {
      "cell_type": "code",
      "metadata": {
        "id": "G1hpv7OTlrKv",
        "colab_type": "code",
        "colab": {}
      },
      "source": [
        "\n",
        "vectors =  normalizer.fit_transform(model.fit_transform(sess.run(W1 + b1)), 'l2')"
      ],
      "execution_count": 0,
      "outputs": []
    },
    {
      "cell_type": "code",
      "metadata": {
        "id": "msac14pllspn",
        "colab_type": "code",
        "outputId": "15b37083-8641-48f3-df1a-fc9b693e80fd",
        "colab": {
          "base_uri": "https://localhost:8080/",
          "height": 265
        }
      },
      "source": [
        "import matplotlib.pyplot as plt\n",
        "fig, ax = plt.subplots()\n",
        "for word in words:\n",
        "    # print(word, vectors[word2int[word]][1])\n",
        "    ax.annotate(word, (vectors[word2int[word]][0],vectors[word2int[word]][1] ))\n",
        "smol=True\n",
        "if smol:\n",
        "    plt.xlim(-1.6,1.6)\n",
        "    plt.ylim(-1.6,1.6)\n",
        "else:\n",
        "    plt.xlim(-2,3)\n",
        "    plt.ylim(-2,3)\n",
        "\n",
        "\n",
        "plt.show()\n",
        "\n"
      ],
      "execution_count": 23,
      "outputs": [
        {
          "output_type": "display_data",
          "data": {
            "image/png": "[encoded data removed]",
            "text/plain": [
              "<Figure size 432x288 with 1 Axes>"
            ]
          },
          "metadata": {
            "tags": [],
            "needs_background": "light"
          }
        }
      ]
    },
    {
      "cell_type": "code",
      "metadata": {
        "id": "LeSvVJirSz4r",
        "colab_type": "code",
        "colab": {}
      },
      "source": [
        ""
      ],
      "execution_count": 0,
      "outputs": []
    }
  ]
}